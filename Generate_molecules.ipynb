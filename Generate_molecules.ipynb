{
 "cells": [
  {
   "cell_type": "code",
   "execution_count": 1,
   "id": "956e4eb3-4fa3-4045-8b6f-0b2ca432912c",
   "metadata": {},
   "outputs": [],
   "source": [
    "import builders, data\n",
    "import mxnet as mx\n",
    "import os\n",
    "import numpy as np\n",
    "import pandas as pd\n",
    "import random\n",
    "import itertools\n",
    "from tqdm import tqdm\n",
    "from data import utils\n",
    "import warnings\n",
    "warnings.filterwarnings('ignore')"
   ]
  },
  {
   "cell_type": "code",
   "execution_count": 2,
   "id": "01735328-9df3-4c6b-97d7-446d92cac2ee",
   "metadata": {},
   "outputs": [],
   "source": [
    "f = open('datasets/Normdata.txt')\n",
    "Normdata = f.read()\n",
    "f.close()\n",
    "Normdata = eval(Normdata)\n",
    "def mkdir(path):\n",
    "    if not os.path.isdir(path):\n",
    "        os.mkdir(path)\n",
    "\n",
    "def canon_smiles(smi):\n",
    "    if Chem.MolFromSmiles(smi) == None:\n",
    "        return ''\n",
    "    else:\n",
    "        return Chem.MolToSmiles(Chem.MolFromSmiles(smi), isomericSmiles=True, canonical=True)    \n",
    "        \n",
    "def obj_norm(obj,sample_count):\n",
    "    abs_obj, emi_obj, FWHM_abs_obj, FWHM_emi_obj, PLQY_obj, extin_obj, life_obj = obj\n",
    "    abs_obj_norm = np.array([(abs_obj-Normdata['abs_mean'])/Normdata['abs_std'],]*sample_count).reshape(-1,1)\n",
    "    emi_obj_norm = np.array([(emi_obj-Normdata['emi_mean'])/Normdata['emi_std'],]*sample_count).reshape(-1,1)\n",
    "    FWHM_abs_obj_norm = np.array([(FWHM_abs_obj-Normdata['FWHM_Abs_mean'])/Normdata['FWHM_Abs_std'],]*sample_count).reshape(-1,1)\n",
    "    FWHM_emi_obj_norm = np.array([(FWHM_emi_obj-Normdata['FWHM_Emi_mean'])/Normdata['FWHM_Emi_std'],]*sample_count).reshape(-1,1)\n",
    "    PLQY_obj_norm = np.array([(PLQY_obj-Normdata['PLQY_mean'])/Normdata['PLQY_std'],]*sample_count).reshape(-1,1)\n",
    "    extin_obj_norm = np.array([(extin_obj-Normdata['extin_mean'])/Normdata['extin_std'],]*sample_count).reshape(-1,1)\n",
    "    life_obj_norm = np.array([(np.log10(life_obj)-Normdata['life_mean'])/Normdata['life_std'],]*sample_count).reshape(-1,1)\n",
    "    return np.concatenate([abs_obj_norm, emi_obj_norm,life_obj_norm,PLQY_obj_norm, extin_obj_norm, FWHM_abs_obj_norm, FWHM_emi_obj_norm],axis=1)"
   ]
  },
  {
   "cell_type": "code",
   "execution_count": 3,
   "id": "5bfceb85-5bbd-4bf2-be8e-1d74235483ff",
   "metadata": {},
   "outputs": [],
   "source": [
    "path = 'DeepMoleculeGen'\n",
    "\n",
    "def gen_mol(obj_list, sol_smiles, num_gen,foldername, scaffold=None):\n",
    "    mkdir(\"generate\")\n",
    "    for obj in obj_list:\n",
    "        savelist = []\n",
    "        [abs_obj, emi_obj, FWHM_abs_obj, FWHM_emi_obj, PLQY_obj, extin_obj, life_obj] = obj\n",
    "        \n",
    "        success_num = 0\n",
    "        while True:\n",
    "            try:\n",
    "                if scaffold == None:\n",
    "                    X=A=NX=NA=last_action = scaffold\n",
    "                else:\n",
    "                    smiles =canon_smiles(scaffold)\n",
    "                    i = 1000\n",
    "                    graph, atom_types, atom_ranks, bonds, bond_types = utils.get_graph_from_smiles(smiles)\n",
    "                    X_in = np.array(atom_types, dtype=np.int32)\n",
    "                    A_in = np.concatenate([np.array(bonds, dtype=np.int32),\n",
    "                                              np.array(bond_types, dtype=np.int32)[:, np.newaxis]],\n",
    "                                              axis=1)\n",
    "                    NX_in = np.array([X_in.shape[0]],dtype=np.int32)\n",
    "                    NA_in = np.array([A_in.shape[0]],dtype=np.int32)\n",
    "                    last_action_in = np.array([1],dtype=np.int32)\n",
    "                    X = np.concatenate([X_in]*i,axis=0)\n",
    "                    A = np.concatenate([A_in]*i,axis=0)\n",
    "                    NX = np.concatenate([NX_in]*i,axis=0)\n",
    "                    NA = np.concatenate([NA_in]*i,axis=0)\n",
    "                    last_action = np.concatenate([last_action_in]*i,axis=0)\n",
    "                # conditional codes:\n",
    "                sample_count = 100\n",
    "                c = obj_norm(obj,sample_count)\n",
    "                sol_adj, sol_feat, NX_sol = utils.get_sol_matrix([sol_smiles,]*sample_count)\n",
    "                c = np.array(c, dtype=np.float32)\n",
    "                # load model\n",
    "                mdl_prop = builders.Optical_RNN_Builder('ckpt/'+path+'/',ctx=mx.gpu(1),gpu_id=0)\n",
    "                # sample results\n",
    "                prop_outputs = []\n",
    "                samples_prop_i = []\n",
    "                samples_prop_i = [m for m in mdl_prop.sample(sample_count, c=c,sol_adj=sol_adj,sol_feat=sol_feat,NX_sol=NX_sol, X=X, A=A, NX=NX, NA=NA, last_action=last_action) if m is not None]\n",
    "                _smiles_list = [Chem.MolToSmiles(m) for m in samples_prop_i]\n",
    "                samples_prop_i = [Chem.MolFromSmiles(s) for s in _smiles_list]\n",
    "                prop_outputs.append(samples_prop_i)\n",
    "                new_smiles = []\n",
    "                for i in _smiles_list:\n",
    "                    try:\n",
    "                        a = Chem.MolFromSmiles(i)\n",
    "                        a = Chem.MolToSmiles(a)\n",
    "                        new_smiles.append(i)\n",
    "                    except:\n",
    "                        print(i)\n",
    "                print(len(new_smiles))\n",
    "                sol_smiles_list = [sol_smiles,]*len(new_smiles)\n",
    "                save_data_i = pd.concat([pd.DataFrame(new_smiles).rename(columns={0:'Chromophore'}),pd.DataFrame(sol_smiles_list).rename(columns={0:'Solvent'})],axis=1)\n",
    "                savelist.append(save_data_i)\n",
    "                success_num += 1\n",
    "                print(success_num)\n",
    "                if success_num == num_gen:\n",
    "                    break\n",
    "            except Exception as e:\n",
    "                print(e)\n",
    "        mkdir(\"generate/\"+foldername+\"/\")\n",
    "        filename = \"generate/\"+str(foldername)+'/'+str(abs_obj)+\"_\"+str(emi_obj)+\"_\"+str(FWHM_abs_obj)+\"_\"+str(FWHM_emi_obj)+\"_\"+str(PLQY_obj)+\"_\"+str(extin_obj)+\"_\"+str(life_obj)\n",
    "        while os.path.isfile(filename):\n",
    "            filename += '_new'\n",
    "        pd.concat(savelist,axis=0).to_csv(filename+'.csv',index=None)\n"
   ]
  },
  {
   "cell_type": "code",
   "execution_count": 4,
   "id": "f5d5e57a-e09b-47d2-9b2c-2a7f97365142",
   "metadata": {},
   "outputs": [
    {
     "name": "stderr",
     "output_type": "stream",
     "text": [
      "[11:08:20] ../src/base.cc:80: cuDNN lib mismatch: linked-against version 8903 != compiled-against version 8004.  Set MXNET_CUDNN_LIB_CHECKING=0 to quiet this warning.\n"
     ]
    },
    {
     "name": "stdout",
     "output_type": "stream",
     "text": [
      "init\n",
      "89\n",
      "1\n",
      "init\n"
     ]
    },
    {
     "name": "stderr",
     "output_type": "stream",
     "text": [
      "\n",
      "KeyboardInterrupt\n",
      "\n"
     ]
    }
   ],
   "source": [
    "from rdkit import Chem                                                                                                                                                                   \n",
    "from rdkit import RDLogger\n",
    "RDLogger.DisableLog('rdApp.*')\n",
    "#####################################\n",
    "solvent = canon_smiles('Cc1ccccc1')\n",
    "folder_name = \"test\"\n",
    "\n",
    "obj_list = [[500,550,3500,2500,0.5,4.5,1.74]]\n",
    "# Absorption, Emission, Abs. bandwidth, Emi. bandwidth, PLQY, Extin. Coeff., Lifetime (ns) \n",
    "\n",
    "num_gen = 10 # 100* 10\n",
    "\n",
    "gen_mol(obj_list, solvent, folder_name, num_gen)"
   ]
  },
  {
   "cell_type": "code",
   "execution_count": null,
   "id": "5496803b-adee-4e35-ad74-86f41ad5b654",
   "metadata": {},
   "outputs": [],
   "source": []
  }
 ],
 "metadata": {
  "kernelspec": {
   "display_name": "mxnet_tf2",
   "language": "python",
   "name": "mxnet_tf2"
  },
  "language_info": {
   "codemirror_mode": {
    "name": "ipython",
    "version": 3
   },
   "file_extension": ".py",
   "mimetype": "text/x-python",
   "name": "python",
   "nbconvert_exporter": "python",
   "pygments_lexer": "ipython3",
   "version": "3.8.15"
  }
 },
 "nbformat": 4,
 "nbformat_minor": 5
}
